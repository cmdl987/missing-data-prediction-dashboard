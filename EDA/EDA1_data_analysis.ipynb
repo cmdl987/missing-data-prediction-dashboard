{
 "cells": [
  {
   "attachments": {},
   "cell_type": "markdown",
   "metadata": {},
   "source": [
    "After receiving two databases, each for a different vehicle, from the company we determined their size and structure."
   ]
  },
  {
   "cell_type": "code",
   "execution_count": 52,
   "metadata": {},
   "outputs": [
    {
     "name": "stdout",
     "output_type": "stream",
     "text": [
      "---------- SHAPE ----------\n",
      "Shape of dataframe1:  (2027, 16)\n",
      "Shape of dataframe2:  (6725, 17)\n"
     ]
    }
   ],
   "source": [
    "import pandas as pd\n",
    "from pathlib import Path\n",
    "\n",
    "import warnings\n",
    "warnings.filterwarnings(\"ignore\")\n",
    "\n",
    "# Load databases\n",
    "path = Path.cwd().parents[0]\n",
    "json_file1 = path/\"data/json_folder/0000AAA.json\"\n",
    "json_file2 = path/\"data/json_folder/0001AAA.json\"\n",
    "\n",
    "dataframe1 = pd.read_json(json_file1)\n",
    "dataframe1.name = \"dataframe1\"\n",
    "dataframe2 = pd.read_json(json_file2)\n",
    "dataframe2.name = \"dataframe2\"\n",
    "\n",
    "print(\"-\"*10,\"SHAPE\",\"-\"*10)\n",
    "print(\"Shape of dataframe1: \", dataframe1.shape)\n",
    "print(\"Shape of dataframe2: \", dataframe2.shape)\n"
   ]
  },
  {
   "attachments": {},
   "cell_type": "markdown",
   "metadata": {},
   "source": [
    "We noticed that the first file has fewer entries and one attribute less. We determined which attribute this was."
   ]
  },
  {
   "cell_type": "code",
   "execution_count": 36,
   "metadata": {},
   "outputs": [
    {
     "name": "stdout",
     "output_type": "stream",
     "text": [
      "{'t_longitude'}\n",
      "\n",
      "<class 'pandas.core.frame.DataFrame'>\n",
      "RangeIndex: 6725 entries, 0 to 6724\n",
      "Data columns (total 1 columns):\n",
      " #   Column       Non-Null Count  Dtype  \n",
      "---  ------       --------------  -----  \n",
      " 0   t_longitude  1 non-null      float64\n",
      "dtypes: float64(1)\n",
      "memory usage: 52.7 KB\n",
      "None\n"
     ]
    }
   ],
   "source": [
    "# Convert the columns of each dataframe to a set\n",
    "columnas_df1 = set(dataframe1.columns)\n",
    "columnas_df2 = set(dataframe2.columns)\n",
    "\n",
    "# Remove attributes in both datasets to isolate the extra attribute in dataframe2. \n",
    "additional_column = columnas_df2 - columnas_df1\n",
    "print(additional_column)\n",
    "print()\n",
    "\n",
    "# Obtain information on this extra attribute.\n",
    "print(dataframe2[additional_column].info())"
   ]
  },
  {
   "attachments": {},
   "cell_type": "markdown",
   "metadata": {},
   "source": [
    "We noticed that the extra attribute was labled 't_longitude' and only had one value. After checking all the other attributes, we noticed that we could find the index number that contained the value of this column. We assumed that this represented an error in the data and could correct this by converting the attribute to 'out_longitude'. "
   ]
  },
  {
   "cell_type": "code",
   "execution_count": 37,
   "metadata": {},
   "outputs": [
    {
     "name": "stdout",
     "output_type": "stream",
     "text": [
      "Index that contains the value in 't_longitude':  [5582]\n",
      "\n",
      "      out_longitude  t_longitude\n",
      "5582            NaN    -3.656348\n",
      "\n"
     ]
    }
   ],
   "source": [
    "# Detect the entry that is non-null and return the index number to a list.\n",
    "notnull_index = dataframe2[dataframe2['t_longitude'].notnull()].index.tolist()\n",
    "print(\"Index that contains the value in 't_longitude': \", notnull_index)\n",
    "print()\n",
    "\n",
    "# Check if this index number has a NaN entry in the 'out_longitude' column.\n",
    "df = dataframe2[[\"out_longitude\", \"t_longitude\"]]\n",
    "print(df.iloc[notnull_index])\n",
    "print()\n",
    "\n",
    "# Change the value of 't_longitude' to 'out_longitude'.\n",
    "dataframe2['out_longitude'].iloc[notnull_index] = dataframe2['t_longitude'].iloc[notnull_index]\n",
    "\n",
    "# Delete the column 't_longitude'.\n",
    "dataframe2 = dataframe2.drop(columns=[\"t_longitude\"])"
   ]
  },
  {
   "attachments": {},
   "cell_type": "markdown",
   "metadata": {},
   "source": [
    "Now that we have 16 attributes, we determine and explain their formats:"
   ]
  },
  {
   "cell_type": "code",
   "execution_count": 38,
   "metadata": {},
   "outputs": [
    {
     "name": "stdout",
     "output_type": "stream",
     "text": [
      "   out_vehicle_id out_registration          out_event_ts  out_driver  \\\n",
      "0        32716286          0001AAA  2022-09-02T00:25:25Z         NaN   \n",
      "1        32716286          0001AAA  2022-09-02T01:31:25Z         NaN   \n",
      "\n",
      "   out_longitude  out_speed         out_event_description  out_event_odo  \\\n",
      "0      -3.649428          0  28053 Madrid (Madrid), Spain       43052920   \n",
      "1      -3.649436          0  28053 Madrid (Madrid), Spain       43052920   \n",
      "\n",
      "  out_terminal_serial ignition  temp1  temp2  temp3  temp4  door1_status  \\\n",
      "0            CD139089        f   26.5   26.7    NaN    NaN           NaN   \n",
      "1            CD139089        f   25.8   25.8    NaN    NaN           NaN   \n",
      "\n",
      "   door2_status  \n",
      "0           NaN  \n",
      "1           NaN  \n"
     ]
    }
   ],
   "source": [
    "print(dataframe2.head(2))"
   ]
  },
  {
   "cell_type": "code",
   "execution_count": 39,
   "metadata": {},
   "outputs": [
    {
     "name": "stdout",
     "output_type": "stream",
     "text": [
      "<class 'pandas.core.frame.DataFrame'>\n",
      "RangeIndex: 6725 entries, 0 to 6724\n",
      "Data columns (total 16 columns):\n",
      " #   Column                 Non-Null Count  Dtype  \n",
      "---  ------                 --------------  -----  \n",
      " 0   out_vehicle_id         6725 non-null   int64  \n",
      " 1   out_registration       6725 non-null   object \n",
      " 2   out_event_ts           6725 non-null   object \n",
      " 3   out_driver             0 non-null      float64\n",
      " 4   out_longitude          6725 non-null   float64\n",
      " 5   out_speed              6725 non-null   int64  \n",
      " 6   out_event_description  6725 non-null   object \n",
      " 7   out_event_odo          6725 non-null   int64  \n",
      " 8   out_terminal_serial    6725 non-null   object \n",
      " 9   ignition               6689 non-null   object \n",
      " 10  temp1                  6689 non-null   float64\n",
      " 11  temp2                  6681 non-null   float64\n",
      " 12  temp3                  0 non-null      float64\n",
      " 13  temp4                  0 non-null      float64\n",
      " 14  door1_status           0 non-null      float64\n",
      " 15  door2_status           0 non-null      float64\n",
      "dtypes: float64(8), int64(3), object(5)\n",
      "memory usage: 840.8+ KB\n"
     ]
    }
   ],
   "source": [
    "dataframe2.info()"
   ]
  },
  {
   "attachments": {},
   "cell_type": "markdown",
   "metadata": {},
   "source": [
    "| Attribute | Description |\n",
    "| --- | --- |\n",
    "| \"out_vehicle_id\" | Vehicle identification number. |\n",
    "| \"out_registration\" | Vehicle license plate number. |\n",
    "| \"out_event_ts\" | Timestamp of when the data is received. |\n",
    "| \"out_driver\" | Driver information (NO DATA). |\n",
    "| \"out_longitude\" | Longitude coordinates of the vehicle. |\n",
    "| \"out_speed\" | Speed of the vehicle when data is received. |\n",
    "| \"out_event_description | Text field with location data: municipalty, province and postal code. |\n",
    "| \"out_event_odo\" | Latitude coordinates of the vehicle. |\n",
    "| \"out_terminal_serial\" | Device serial number. |\n",
    "| \"ignition\" | Vehicle status (engine on or off). |\n",
    "| \"temp1\", \"temp2\", \"temp3\", \"temp4\" | Temperature registered in ºC by the vehicle sensor. |\n",
    "| \"door_status1\", \"door_status2\" | Status of the vehicle refrigerating chamber (open or closed)."
   ]
  },
  {
   "attachments": {},
   "cell_type": "markdown",
   "metadata": {},
   "source": [
    "We identified and removed any duplicate entries with identical timestamps"
   ]
  },
  {
   "cell_type": "code",
   "execution_count": 40,
   "metadata": {},
   "outputs": [
    {
     "name": "stdout",
     "output_type": "stream",
     "text": [
      "Number of duplicates in dataframe1:  18\n",
      "Percent of duplicates in dataframe1:  0.89 %\n",
      "\n",
      "Number of duplicates in dataframe2:  273\n",
      "Percent of duplicates in dataframe2:  4.06 %\n",
      "\n"
     ]
    }
   ],
   "source": [
    "for i, df in enumerate([dataframe1, dataframe2], 1):\n",
    "    duplicated_values_df = df[\"out_event_ts\"].duplicated().sum()\n",
    "    print(f\"Number of duplicates in dataframe{i}: \", duplicated_values_df)\n",
    "    print(f\"Percent of duplicates in dataframe{i}: \", round(duplicated_values_df/len(df)*100,2), \"%\")\n",
    "    print()"
   ]
  },
  {
   "attachments": {},
   "cell_type": "markdown",
   "metadata": {},
   "source": [
    "We analysed the duplicate entries in our data bases to take appropriate steps:"
   ]
  },
  {
   "cell_type": "code",
   "execution_count": 41,
   "metadata": {},
   "outputs": [
    {
     "name": "stdout",
     "output_type": "stream",
     "text": [
      "---------- dataframe1 ----------\n",
      "Shape_m:  (36, 16)\n",
      "\n",
      "---------- dataframe2 ----------\n",
      "Shape_m:  (526, 16)\n",
      "\n"
     ]
    },
    {
     "data": {
      "text/html": [
       "<div>\n",
       "<style scoped>\n",
       "    .dataframe tbody tr th:only-of-type {\n",
       "        vertical-align: middle;\n",
       "    }\n",
       "\n",
       "    .dataframe tbody tr th {\n",
       "        vertical-align: top;\n",
       "    }\n",
       "\n",
       "    .dataframe thead th {\n",
       "        text-align: right;\n",
       "    }\n",
       "</style>\n",
       "<table border=\"1\" class=\"dataframe\">\n",
       "  <thead>\n",
       "    <tr style=\"text-align: right;\">\n",
       "      <th></th>\n",
       "      <th>out_vehicle_id</th>\n",
       "      <th>out_registration</th>\n",
       "      <th>out_event_ts</th>\n",
       "      <th>out_driver</th>\n",
       "      <th>out_longitude</th>\n",
       "      <th>out_speed</th>\n",
       "      <th>out_event_description</th>\n",
       "      <th>out_event_odo</th>\n",
       "      <th>out_terminal_serial</th>\n",
       "      <th>ignition</th>\n",
       "      <th>temp1</th>\n",
       "      <th>temp2</th>\n",
       "      <th>temp3</th>\n",
       "      <th>temp4</th>\n",
       "      <th>door1_status</th>\n",
       "      <th>door2_status</th>\n",
       "    </tr>\n",
       "  </thead>\n",
       "  <tbody>\n",
       "    <tr>\n",
       "      <th>2</th>\n",
       "      <td>32716286</td>\n",
       "      <td>0001AAA</td>\n",
       "      <td>2022-09-02T01:31:26Z</td>\n",
       "      <td>NaN</td>\n",
       "      <td>-3.649436</td>\n",
       "      <td>0</td>\n",
       "      <td>28053 Madrid (Madrid), Spain</td>\n",
       "      <td>43052920</td>\n",
       "      <td>CD139089</td>\n",
       "      <td>t</td>\n",
       "      <td>25.8</td>\n",
       "      <td>25.8</td>\n",
       "      <td>NaN</td>\n",
       "      <td>NaN</td>\n",
       "      <td>NaN</td>\n",
       "      <td>NaN</td>\n",
       "    </tr>\n",
       "    <tr>\n",
       "      <th>3</th>\n",
       "      <td>32716286</td>\n",
       "      <td>0001AAA</td>\n",
       "      <td>2022-09-02T01:31:26Z</td>\n",
       "      <td>NaN</td>\n",
       "      <td>-3.649436</td>\n",
       "      <td>0</td>\n",
       "      <td>28053 Madrid (Madrid), Spain</td>\n",
       "      <td>43052920</td>\n",
       "      <td>CD139089</td>\n",
       "      <td>t</td>\n",
       "      <td>25.8</td>\n",
       "      <td>25.8</td>\n",
       "      <td>NaN</td>\n",
       "      <td>NaN</td>\n",
       "      <td>NaN</td>\n",
       "      <td>NaN</td>\n",
       "    </tr>\n",
       "    <tr>\n",
       "      <th>12</th>\n",
       "      <td>32716286</td>\n",
       "      <td>0001AAA</td>\n",
       "      <td>2022-09-02T01:33:03Z</td>\n",
       "      <td>NaN</td>\n",
       "      <td>-3.649391</td>\n",
       "      <td>0</td>\n",
       "      <td>28053 Madrid (Madrid), Spain</td>\n",
       "      <td>43052930</td>\n",
       "      <td>CD139089</td>\n",
       "      <td>t</td>\n",
       "      <td>25.8</td>\n",
       "      <td>25.8</td>\n",
       "      <td>NaN</td>\n",
       "      <td>NaN</td>\n",
       "      <td>NaN</td>\n",
       "      <td>NaN</td>\n",
       "    </tr>\n",
       "    <tr>\n",
       "      <th>13</th>\n",
       "      <td>32716286</td>\n",
       "      <td>0001AAA</td>\n",
       "      <td>2022-09-02T01:33:03Z</td>\n",
       "      <td>NaN</td>\n",
       "      <td>-3.649391</td>\n",
       "      <td>0</td>\n",
       "      <td>28053 Madrid (Madrid), Spain</td>\n",
       "      <td>43052930</td>\n",
       "      <td>CD139089</td>\n",
       "      <td>t</td>\n",
       "      <td>25.8</td>\n",
       "      <td>25.8</td>\n",
       "      <td>NaN</td>\n",
       "      <td>NaN</td>\n",
       "      <td>NaN</td>\n",
       "      <td>NaN</td>\n",
       "    </tr>\n",
       "    <tr>\n",
       "      <th>16</th>\n",
       "      <td>32716286</td>\n",
       "      <td>0001AAA</td>\n",
       "      <td>2022-09-02T03:18:27Z</td>\n",
       "      <td>NaN</td>\n",
       "      <td>-3.649421</td>\n",
       "      <td>0</td>\n",
       "      <td>28053 Madrid (Madrid), Spain</td>\n",
       "      <td>43052930</td>\n",
       "      <td>CD139089</td>\n",
       "      <td>f</td>\n",
       "      <td>24.8</td>\n",
       "      <td>24.6</td>\n",
       "      <td>NaN</td>\n",
       "      <td>NaN</td>\n",
       "      <td>NaN</td>\n",
       "      <td>NaN</td>\n",
       "    </tr>\n",
       "    <tr>\n",
       "      <th>17</th>\n",
       "      <td>32716286</td>\n",
       "      <td>0001AAA</td>\n",
       "      <td>2022-09-02T03:18:27Z</td>\n",
       "      <td>NaN</td>\n",
       "      <td>-3.649421</td>\n",
       "      <td>0</td>\n",
       "      <td>28053 Madrid (Madrid), Spain</td>\n",
       "      <td>43052930</td>\n",
       "      <td>CD139089</td>\n",
       "      <td>f</td>\n",
       "      <td>24.8</td>\n",
       "      <td>24.6</td>\n",
       "      <td>NaN</td>\n",
       "      <td>NaN</td>\n",
       "      <td>NaN</td>\n",
       "      <td>NaN</td>\n",
       "    </tr>\n",
       "  </tbody>\n",
       "</table>\n",
       "</div>"
      ],
      "text/plain": [
       "    out_vehicle_id out_registration          out_event_ts  out_driver  \\\n",
       "2         32716286          0001AAA  2022-09-02T01:31:26Z         NaN   \n",
       "3         32716286          0001AAA  2022-09-02T01:31:26Z         NaN   \n",
       "12        32716286          0001AAA  2022-09-02T01:33:03Z         NaN   \n",
       "13        32716286          0001AAA  2022-09-02T01:33:03Z         NaN   \n",
       "16        32716286          0001AAA  2022-09-02T03:18:27Z         NaN   \n",
       "17        32716286          0001AAA  2022-09-02T03:18:27Z         NaN   \n",
       "\n",
       "    out_longitude  out_speed         out_event_description  out_event_odo  \\\n",
       "2       -3.649436          0  28053 Madrid (Madrid), Spain       43052920   \n",
       "3       -3.649436          0  28053 Madrid (Madrid), Spain       43052920   \n",
       "12      -3.649391          0  28053 Madrid (Madrid), Spain       43052930   \n",
       "13      -3.649391          0  28053 Madrid (Madrid), Spain       43052930   \n",
       "16      -3.649421          0  28053 Madrid (Madrid), Spain       43052930   \n",
       "17      -3.649421          0  28053 Madrid (Madrid), Spain       43052930   \n",
       "\n",
       "   out_terminal_serial ignition  temp1  temp2  temp3  temp4  door1_status  \\\n",
       "2             CD139089        t   25.8   25.8    NaN    NaN           NaN   \n",
       "3             CD139089        t   25.8   25.8    NaN    NaN           NaN   \n",
       "12            CD139089        t   25.8   25.8    NaN    NaN           NaN   \n",
       "13            CD139089        t   25.8   25.8    NaN    NaN           NaN   \n",
       "16            CD139089        f   24.8   24.6    NaN    NaN           NaN   \n",
       "17            CD139089        f   24.8   24.6    NaN    NaN           NaN   \n",
       "\n",
       "    door2_status  \n",
       "2            NaN  \n",
       "3            NaN  \n",
       "12           NaN  \n",
       "13           NaN  \n",
       "16           NaN  \n",
       "17           NaN  "
      ]
     },
     "execution_count": 41,
     "metadata": {},
     "output_type": "execute_result"
    }
   ],
   "source": [
    "# Obtain a mask of the duplicate entries.\n",
    "for i, df in enumerate([dataframe1, dataframe2],1):\n",
    "    print(\"-\"*10,f\"dataframe{i}\",\"-\"*10)\n",
    "    df_mask = df[\"out_event_ts\"].duplicated(keep=False)\n",
    "    df_m = df[df_mask]\n",
    "    print(\"Shape_m: \", df_m.shape)\n",
    "    print()\n",
    "\n",
    "df_m.head(6)\n"
   ]
  },
  {
   "attachments": {},
   "cell_type": "markdown",
   "metadata": {},
   "source": [
    "By looking the indices we could see that the duplicate entries were consecutive entries and that the values for the each attribute were identical. We could eliminate the duplicate entries without this affecting out model, keeping only unique the last of each duplicate entry."
   ]
  },
  {
   "cell_type": "code",
   "execution_count": 42,
   "metadata": {},
   "outputs": [
    {
     "name": "stdout",
     "output_type": "stream",
     "text": [
      "---------- dataframe1 ----------\n",
      "Shape BEFORE:  (2027, 16)\n",
      "Shape AFTER:  (2009, 16)\n",
      "\n",
      "---------- dataframe2 ----------\n",
      "Shape BEFORE:  (2009, 16)\n",
      "Shape AFTER:  (2009, 16)\n",
      "\n"
     ]
    }
   ],
   "source": [
    "for i, df in enumerate([dataframe1, dataframe2],1):\n",
    "    print(\"-\"*10,f\"dataframe{i}\",\"-\"*10)\n",
    "    print(f\"Shape BEFORE: \", dataframe1.shape)\n",
    "    df.drop_duplicates(subset=\"out_event_ts\", keep=\"last\", inplace=True)\n",
    "    print(f\"Shape AFTER: \", dataframe1.shape)\n",
    "    print()"
   ]
  },
  {
   "attachments": {},
   "cell_type": "markdown",
   "metadata": {},
   "source": [
    "We got a deeper understanding of the Null values in our data base:"
   ]
  },
  {
   "cell_type": "code",
   "execution_count": 43,
   "metadata": {},
   "outputs": [
    {
     "data": {
      "text/html": [
       "<div>\n",
       "<style scoped>\n",
       "    .dataframe tbody tr th:only-of-type {\n",
       "        vertical-align: middle;\n",
       "    }\n",
       "\n",
       "    .dataframe tbody tr th {\n",
       "        vertical-align: top;\n",
       "    }\n",
       "\n",
       "    .dataframe thead th {\n",
       "        text-align: right;\n",
       "    }\n",
       "</style>\n",
       "<table border=\"1\" class=\"dataframe\">\n",
       "  <thead>\n",
       "    <tr style=\"text-align: right;\">\n",
       "      <th></th>\n",
       "      <th>null_1</th>\n",
       "      <th>null_1_%</th>\n",
       "      <th>null_2</th>\n",
       "      <th>null_2_%</th>\n",
       "    </tr>\n",
       "  </thead>\n",
       "  <tbody>\n",
       "    <tr>\n",
       "      <th>out_vehicle_id</th>\n",
       "      <td>0</td>\n",
       "      <td>0.0</td>\n",
       "      <td>0</td>\n",
       "      <td>0.00</td>\n",
       "    </tr>\n",
       "    <tr>\n",
       "      <th>out_registration</th>\n",
       "      <td>0</td>\n",
       "      <td>0.0</td>\n",
       "      <td>0</td>\n",
       "      <td>0.00</td>\n",
       "    </tr>\n",
       "    <tr>\n",
       "      <th>out_event_ts</th>\n",
       "      <td>0</td>\n",
       "      <td>0.0</td>\n",
       "      <td>0</td>\n",
       "      <td>0.00</td>\n",
       "    </tr>\n",
       "    <tr>\n",
       "      <th>out_driver</th>\n",
       "      <td>2009</td>\n",
       "      <td>100.0</td>\n",
       "      <td>6452</td>\n",
       "      <td>100.00</td>\n",
       "    </tr>\n",
       "    <tr>\n",
       "      <th>out_longitude</th>\n",
       "      <td>0</td>\n",
       "      <td>0.0</td>\n",
       "      <td>0</td>\n",
       "      <td>0.00</td>\n",
       "    </tr>\n",
       "    <tr>\n",
       "      <th>out_speed</th>\n",
       "      <td>0</td>\n",
       "      <td>0.0</td>\n",
       "      <td>0</td>\n",
       "      <td>0.00</td>\n",
       "    </tr>\n",
       "    <tr>\n",
       "      <th>out_event_description</th>\n",
       "      <td>0</td>\n",
       "      <td>0.0</td>\n",
       "      <td>0</td>\n",
       "      <td>0.00</td>\n",
       "    </tr>\n",
       "    <tr>\n",
       "      <th>out_event_odo</th>\n",
       "      <td>0</td>\n",
       "      <td>0.0</td>\n",
       "      <td>0</td>\n",
       "      <td>0.00</td>\n",
       "    </tr>\n",
       "    <tr>\n",
       "      <th>out_terminal_serial</th>\n",
       "      <td>0</td>\n",
       "      <td>0.0</td>\n",
       "      <td>0</td>\n",
       "      <td>0.00</td>\n",
       "    </tr>\n",
       "    <tr>\n",
       "      <th>ignition</th>\n",
       "      <td>14</td>\n",
       "      <td>0.7</td>\n",
       "      <td>33</td>\n",
       "      <td>0.51</td>\n",
       "    </tr>\n",
       "    <tr>\n",
       "      <th>temp1</th>\n",
       "      <td>14</td>\n",
       "      <td>0.7</td>\n",
       "      <td>33</td>\n",
       "      <td>0.51</td>\n",
       "    </tr>\n",
       "    <tr>\n",
       "      <th>temp2</th>\n",
       "      <td>14</td>\n",
       "      <td>0.7</td>\n",
       "      <td>41</td>\n",
       "      <td>0.64</td>\n",
       "    </tr>\n",
       "    <tr>\n",
       "      <th>temp3</th>\n",
       "      <td>2009</td>\n",
       "      <td>100.0</td>\n",
       "      <td>6452</td>\n",
       "      <td>100.00</td>\n",
       "    </tr>\n",
       "    <tr>\n",
       "      <th>temp4</th>\n",
       "      <td>2009</td>\n",
       "      <td>100.0</td>\n",
       "      <td>6452</td>\n",
       "      <td>100.00</td>\n",
       "    </tr>\n",
       "    <tr>\n",
       "      <th>door1_status</th>\n",
       "      <td>2009</td>\n",
       "      <td>100.0</td>\n",
       "      <td>6452</td>\n",
       "      <td>100.00</td>\n",
       "    </tr>\n",
       "    <tr>\n",
       "      <th>door2_status</th>\n",
       "      <td>2009</td>\n",
       "      <td>100.0</td>\n",
       "      <td>6452</td>\n",
       "      <td>100.00</td>\n",
       "    </tr>\n",
       "  </tbody>\n",
       "</table>\n",
       "</div>"
      ],
      "text/plain": [
       "                       null_1  null_1_%  null_2  null_2_%\n",
       "out_vehicle_id              0       0.0       0      0.00\n",
       "out_registration            0       0.0       0      0.00\n",
       "out_event_ts                0       0.0       0      0.00\n",
       "out_driver               2009     100.0    6452    100.00\n",
       "out_longitude               0       0.0       0      0.00\n",
       "out_speed                   0       0.0       0      0.00\n",
       "out_event_description       0       0.0       0      0.00\n",
       "out_event_odo               0       0.0       0      0.00\n",
       "out_terminal_serial         0       0.0       0      0.00\n",
       "ignition                   14       0.7      33      0.51\n",
       "temp1                      14       0.7      33      0.51\n",
       "temp2                      14       0.7      41      0.64\n",
       "temp3                    2009     100.0    6452    100.00\n",
       "temp4                    2009     100.0    6452    100.00\n",
       "door1_status             2009     100.0    6452    100.00\n",
       "door2_status             2009     100.0    6452    100.00"
      ]
     },
     "execution_count": 43,
     "metadata": {},
     "output_type": "execute_result"
    }
   ],
   "source": [
    "null_df = pd.DataFrame()\n",
    "\n",
    "for i, df in enumerate([dataframe1, dataframe2],1):\n",
    "    null_df[f\"null_{i}\"] = df.isnull().sum()\n",
    "    null_df[f\"null_{i}_%\"] = round(df.isnull().mean()*100, 2)\n",
    "    \n",
    "null_df"
   ]
  },
  {
   "attachments": {},
   "cell_type": "markdown",
   "metadata": {},
   "source": [
    "Since all the values in the attribues 'out_driver', 'temp3', 'temp4', 'door1_status' and 'door2_status' were null for each file, we could eliminate these attributes."
   ]
  },
  {
   "cell_type": "code",
   "execution_count": 44,
   "metadata": {},
   "outputs": [],
   "source": [
    "unnecesary_columns = [\"out_driver\", \"temp3\", \"temp4\", \"door1_status\", \"door2_status\"]\n",
    "\n",
    "dataframe1 = dataframe1.drop(columns=unnecesary_columns)\n",
    "dataframe2 = dataframe2.drop(columns=unnecesary_columns)"
   ]
  },
  {
   "attachments": {},
   "cell_type": "markdown",
   "metadata": {},
   "source": [
    "The missing values of 'temp1' coincide with the missing values of 'ignition', and to a lesser extent (in the case of the second dataframe) in the missing values of 'temp2', as can be seen in the venn diagram."
   ]
  },
  {
   "cell_type": "code",
   "execution_count": 45,
   "metadata": {},
   "outputs": [
    {
     "data": {
      "image/png": "[encoded data removed]",
      "text/plain": [
       "<Figure size 640x480 with 1 Axes>"
      ]
     },
     "metadata": {},
     "output_type": "display_data"
    },
    {
     "data": {
      "image/png": "[encoded data removed]",
      "text/plain": [
       "<Figure size 640x480 with 1 Axes>"
      ]
     },
     "metadata": {},
     "output_type": "display_data"
    }
   ],
   "source": [
    "import matplotlib.pyplot as plt\n",
    "from matplotlib_venn import venn3\n",
    "\n",
    "for i, df in enumerate([dataframe1, dataframe2],1):\n",
    "    df_name = f\"dataframe{i}\"\n",
    "    null_list = []\n",
    "    for atribute in [\"temp1\", \"temp2\", \"ignition\"]:\n",
    "        null_index = df[df[atribute].isnull()].index.tolist()\n",
    "        atribute_set = set(null_index)\n",
    "        null_list.append(atribute_set)\n",
    "\n",
    "    # Unpack the list.\n",
    "    temp1_index, temp2_index, ignition_index = null_list\n",
    "\n",
    "    # Draw the venn diagram\n",
    "    venn3([temp1_index, temp2_index, ignition_index], (\"temp1\", \"temp2\", \"ignition\"))\n",
    "    plt.title(f\"Venn diagram for Dataframe{i}\")\n",
    "    plt.show()  "
   ]
  },
  {
   "attachments": {},
   "cell_type": "markdown",
   "metadata": {},
   "source": [
    "Since the percent of null values doesn't exceed 1% of the total in any case, we can safely delete these entries and this will not alter the results of our model."
   ]
  },
  {
   "cell_type": "code",
   "execution_count": 46,
   "metadata": {},
   "outputs": [
    {
     "name": "stdout",
     "output_type": "stream",
     "text": [
      "---------- dataframe1 ----------\n",
      "Number of nan in 'ignition':  0\n",
      "Number of nan in 'temp1':  0\n",
      "Number of nan in 'temp2':  0\n",
      "Shape:  (1995, 11)\n",
      "\n",
      "---------- dataframe2 ----------\n",
      "Number of nan in 'ignition':  0\n",
      "Number of nan in 'temp1':  0\n",
      "Number of nan in 'temp2':  0\n",
      "Shape:  (6411, 11)\n",
      "\n"
     ]
    }
   ],
   "source": [
    "dataframe1.dropna(subset=[\"ignition\", \"temp2\"], inplace=True)\n",
    "dataframe2.dropna(subset=[\"ignition\", \"temp2\"], inplace=True)\n",
    "\n",
    "# Check that no empty entries exist.\n",
    "for i, df in enumerate([dataframe1, dataframe2],1):\n",
    "    print(\"-\"*10,f\"dataframe{i}\",\"-\"*10)\n",
    "    print(\"Number of nan in 'ignition': \", df[\"ignition\"].isnull().sum())\n",
    "    print(\"Number of nan in 'temp1': \", df[\"temp1\"].isnull().sum())\n",
    "    print(\"Number of nan in 'temp2': \", df[\"temp2\"].isnull().sum())\n",
    "    print(\"Shape: \", df.shape)\n",
    "    print()"
   ]
  },
  {
   "attachments": {},
   "cell_type": "markdown",
   "metadata": {},
   "source": [
    "We analysed the categories within the 'ignition' category."
   ]
  },
  {
   "cell_type": "code",
   "execution_count": 47,
   "metadata": {},
   "outputs": [
    {
     "name": "stdout",
     "output_type": "stream",
     "text": [
      "---------- dataframe1 ----------\n",
      "Values for the attribute 'ignition':  ['f' 't']\n",
      "\n",
      "---------- dataframe2 ----------\n",
      "Values for the attribute 'ignition':  ['f' 't']\n",
      "\n"
     ]
    }
   ],
   "source": [
    "for i, df in enumerate([dataframe1, dataframe2],1):\n",
    "    print(\"-\"*10,f\"dataframe{i}\",\"-\"*10)\n",
    "    print(\"Values for the attribute 'ignition': \", df[\"ignition\"].unique())\n",
    "    print()"
   ]
  },
  {
   "attachments": {},
   "cell_type": "markdown",
   "metadata": {},
   "source": [
    "We replaced the values 'f' and 't' for 0 and 1 respectively.\n"
   ]
  },
  {
   "cell_type": "code",
   "execution_count": 48,
   "metadata": {},
   "outputs": [
    {
     "name": "stdout",
     "output_type": "stream",
     "text": [
      "---------- dataframe1 ----------\n",
      "Values for the attribute 'ignition':  [0 1]\n",
      "\n",
      "---------- dataframe2 ----------\n",
      "Values for the attribute 'ignition':  [0 1]\n",
      "\n"
     ]
    }
   ],
   "source": [
    "dataframe1[\"ignition\"] = dataframe1[\"ignition\"].map({\"t\":1, \"f\":0})\n",
    "dataframe2[\"ignition\"] = dataframe2[\"ignition\"].map({\"t\":1, \"f\":0})\n",
    "\n",
    "# Check again.\n",
    "for i, df in enumerate([dataframe1, dataframe2],1):\n",
    "    print(\"-\"*10,f\"dataframe{i}\",\"-\"*10)\n",
    "    print(\"Values for the attribute 'ignition': \", df[\"ignition\"].unique())\n",
    "    print()"
   ]
  },
  {
   "attachments": {},
   "cell_type": "markdown",
   "metadata": {},
   "source": [
    "Since we recieved two files corresponding to two distinct vehicles, and our task concerns predicting time series, we will analyse both files to determine the time interval for each vehicle."
   ]
  },
  {
   "cell_type": "code",
   "execution_count": 49,
   "metadata": {},
   "outputs": [
    {
     "name": "stdout",
     "output_type": "stream",
     "text": [
      "---------- dataframe1 ----------\n",
      "Time intervals:\n",
      "\tFirst log:  2022-09-20 00:38:19\n",
      "\tLast log:  2022-09-20 21:27:03\n",
      "\tElipsed time: 0 days 20:48:44\n",
      "\n",
      "\n",
      "---------- dataframe2 ----------\n",
      "Time intervals:\n",
      "\tFirst log:  2022-09-02 00:25:25\n",
      "\tLast log:  2022-09-20 21:40:30\n",
      "\tElipsed time: 18 days 21:15:05\n",
      "\n",
      "\n",
      "<class 'pandas.core.series.Series'>\n",
      "Int64Index: 1995 entries, 0 to 2011\n",
      "Series name: out_event_ts\n",
      "Non-Null Count  Dtype         \n",
      "--------------  -----         \n",
      "1995 non-null   datetime64[ns]\n",
      "dtypes: datetime64[ns](1)\n",
      "memory usage: 31.2 KB\n"
     ]
    }
   ],
   "source": [
    "# Format the time value in the \"out_event_ts\" column.\n",
    "for i, df in enumerate([dataframe1, dataframe2],1):\n",
    "    print(\"-\"*10,f\"dataframe{i}\",\"-\"*10)\n",
    "    df[\"out_event_ts\"] = pd.to_datetime((df[\"out_event_ts\"]))\n",
    "    df[\"out_event_ts\"] = df[\"out_event_ts\"].dt.tz_localize(None)\n",
    "    print(\"Time intervals:\")\n",
    "    print(\"\\tFirst log:  {}\".format(df[\"out_event_ts\"].min()))\n",
    "    print(\"\\tLast log:  {}\".format(df[\"out_event_ts\"].max()))\n",
    "    print(\"\\tElipsed time: {}\\n\".format(df[\"out_event_ts\"].max()-df[\"out_event_ts\"].min() ))\n",
    "    print()\n",
    "\n",
    "dataframe1[\"out_event_ts\"].info()\n"
   ]
  },
  {
   "attachments": {},
   "cell_type": "markdown",
   "metadata": {},
   "source": [
    "We observed that for the data corresponding to the second vehicle the time interval is 18 days, compared to one day for the first vehicle. This makes it difficult to use predictive models based on historic data, and even more so in models such as Prohpet.\n",
    "\n",
    "One of the project objectives was to have data recorded every 5 minutes. We analysed the interval between each entry."
   ]
  },
  {
   "cell_type": "code",
   "execution_count": 50,
   "metadata": {},
   "outputs": [],
   "source": [
    "def interval_generator(serie):\n",
    "    \"\"\"Receives a series in datetime format and returns a new\n",
    "    attribute which shows the time interval between entries and is \n",
    "    included in the dataframe\"\"\"\n",
    "    n_total = len(serie)\n",
    "    interval_list = []\n",
    "    for i in range(0, n_total):\n",
    "        if i < n_total-1:\n",
    "            time_final = serie.iloc[i+1]\n",
    "            time_init = serie.iloc[i]\n",
    "            interval = (time_final - time_init)\n",
    "            interval_list.append(interval)\n",
    "        \n",
    "        else:\n",
    "            interval_list.append(None)\n",
    "    \n",
    "    return interval_list\n",
    "\n",
    "\n",
    "for df in [dataframe1, dataframe2]:\n",
    "    df[\"interval_time\"] = interval_generator(df[\"out_event_ts\"])"
   ]
  },
  {
   "attachments": {},
   "cell_type": "markdown",
   "metadata": {},
   "source": [
    "We obtained the minumum, maximum and average interval times of this new column."
   ]
  },
  {
   "cell_type": "code",
   "execution_count": 51,
   "metadata": {},
   "outputs": [
    {
     "name": "stdout",
     "output_type": "stream",
     "text": [
      "---------- dataframe1 ----------\n",
      "count                         1994\n",
      "mean     0 days 00:00:37.574724172\n",
      "std      0 days 00:03:08.648930953\n",
      "min                0 days 00:00:01\n",
      "25%                0 days 00:00:10\n",
      "50%                0 days 00:00:10\n",
      "75%                0 days 00:00:16\n",
      "max                0 days 01:09:35\n",
      "Name: interval_time, dtype: object\n",
      "The mode is: 0   0 days 00:00:10\n",
      "Name: interval_time, dtype: timedelta64[ns]\n",
      "\n",
      "---------- dataframe2 ----------\n",
      "count                         6410\n",
      "mean     0 days 00:04:14.556162246\n",
      "std      0 days 00:17:34.214506031\n",
      "min                0 days 00:00:01\n",
      "25%                0 days 00:00:08\n",
      "50%                0 days 00:00:10\n",
      "75%                0 days 00:00:18\n",
      "max                0 days 07:51:43\n",
      "Name: interval_time, dtype: object\n",
      "The mode is: 0   0 days 00:00:10\n",
      "Name: interval_time, dtype: timedelta64[ns]\n",
      "\n"
     ]
    }
   ],
   "source": [
    "for i, df in enumerate([dataframe1, dataframe2],1):\n",
    "    print(\"-\"*10,f\"dataframe{i}\",\"-\"*10)\n",
    "    print(df[\"interval_time\"].describe())\n",
    "    print(\"The mode is: {}\".format(df[\"interval_time\"].mode()))\n",
    "    print()\n"
   ]
  },
  {
   "attachments": {},
   "cell_type": "markdown",
   "metadata": {},
   "source": [
    "We observed that there was a wide range of time intervals, from **1 second** to **6 hours and 39 minutes**\n",
    "\n",
    "The mode for the intervals in both dataframes is 10 seconds.\n",
    "Since the objectives called for readings every 5 minutes, we will have to generate new entries to ensure that consecutive readings do not exceed 5 minutes and use these to generate predictions.."
   ]
  }
 ],
 "metadata": {
  "kernelspec": {
   "display_name": "Python 3.8.5 ('base')",
   "language": "python",
   "name": "python3"
  },
  "language_info": {
   "codemirror_mode": {
    "name": "ipython",
    "version": 3
   },
   "file_extension": ".py",
   "mimetype": "text/x-python",
   "name": "python",
   "nbconvert_exporter": "python",
   "pygments_lexer": "ipython3",
   "version": "3.10.6"
  },
  "orig_nbformat": 4,
  "vscode": {
   "interpreter": {
    "hash": "c22f193e78d5610a55a910fc4b9f9449f6db8c94d12d9fc4ef5417d65777a795"
   }
  }
 },
 "nbformat": 4,
 "nbformat_minor": 2
}
